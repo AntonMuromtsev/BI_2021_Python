{
 "cells": [
  {
   "cell_type": "code",
   "execution_count": 1,
   "id": "35d72608",
   "metadata": {},
   "outputs": [],
   "source": [
    "import re"
   ]
  },
  {
   "cell_type": "markdown",
   "id": "69b17376",
   "metadata": {},
   "source": [
    "looking for ftp links"
   ]
  },
  {
   "cell_type": "code",
   "execution_count": 64,
   "id": "1a11488a",
   "metadata": {},
   "outputs": [],
   "source": [
    "with open(\"references.txt\") as ref, open(\"ftps.txt\", mode = \"w\") as result:\n",
    "    pattern = re.compile(r'\\W(ftp\\.[^\\s;]+)')\n",
    "    for line in ref:\n",
    "        a = pattern.finditer(line)\n",
    "        for i in a:\n",
    "            result.write(i.group(1)+'\\n') "
   ]
  },
  {
   "cell_type": "markdown",
   "id": "e1e555c7",
   "metadata": {},
   "source": [
    "looking for numbers"
   ]
  },
  {
   "cell_type": "code",
   "execution_count": 55,
   "id": "32b4ee7c",
   "metadata": {},
   "outputs": [
    {
     "name": "stdout",
     "output_type": "stream",
     "text": [
      "2430\n",
      "\n",
      "1969\n",
      "\n",
      "2430\n",
      "\n",
      "2430\n",
      "\n",
      "57\n",
      "\n",
      "57\n",
      "\n",
      "1970\n",
      "\n",
      "3\n",
      "\n",
      "68\n",
      "\n",
      "35\n",
      "\n",
      "460\n",
      "\n",
      "2430\n",
      "\n"
     ]
    }
   ],
   "source": [
    "with open(\"2430AD.txt\") as story:\n",
    "    pattern = re.compile(r'[^\\d]?(\\d+)')\n",
    "    for line in story:\n",
    "        a = pattern.finditer(line)\n",
    "        for i in a:\n",
    "            print(i.group(1)+'\\n') "
   ]
  },
  {
   "cell_type": "markdown",
   "id": "8becba32",
   "metadata": {},
   "source": [
    "looking for words that contain \"a or A\""
   ]
  },
  {
   "cell_type": "code",
   "execution_count": null,
   "id": "5f9a72bf",
   "metadata": {
    "scrolled": false
   },
   "outputs": [],
   "source": [
    "with open(\"2430AD.txt\") as story:\n",
    "    pattern = re.compile(r'\\b\\w*[Aa]\\w*\\b')\n",
    "    for line in story:\n",
    "        a = pattern.finditer(line)\n",
    "        for i in a:\n",
    "            print(i.group(0)+'\\n') "
   ]
  },
  {
   "cell_type": "markdown",
   "id": "cd2d24f8",
   "metadata": {},
   "source": [
    "Looking for sentences with exclamation marks"
   ]
  },
  {
   "cell_type": "code",
   "execution_count": 65,
   "id": "f09aa436",
   "metadata": {
    "scrolled": true
   },
   "outputs": [
    {
     "name": "stdout",
     "output_type": "stream",
     "text": [
      "Yes!\n",
      "\n",
      "Literally!\n",
      "\n",
      "There was once a time!\n",
      "\n",
      "Centuries ago!\n",
      "\n",
      "Think, Cranwitz!\n",
      "\n",
      "If we succeed!\n",
      "\n"
     ]
    }
   ],
   "source": [
    "with open(\"2430AD.txt\") as story:\n",
    "    pattern = re.compile(r'[A-Z][^\\.!?]*[!]')\n",
    "    for line in story:\n",
    "        a = pattern.finditer(line)\n",
    "        for i in a:\n",
    "            print(i.group(0)+'\\n') "
   ]
  },
  {
   "cell_type": "markdown",
   "id": "7192759c",
   "metadata": {},
   "source": [
    "Calculating frequences of words (case differences are irrelevant)"
   ]
  },
  {
   "cell_type": "code",
   "execution_count": 94,
   "id": "ca270182",
   "metadata": {
    "scrolled": false
   },
   "outputs": [],
   "source": [
    "with open(\"2430AD.txt\") as story:\n",
    "    pattern = re.compile(r'[A-z]+')\n",
    "    words = set()\n",
    "    for line in story:\n",
    "        a = pattern.finditer(line)\n",
    "        for i in a:\n",
    "            words.add(i.group(0).lower()) \n",
    "    words_count = []\n",
    "    for i in words:\n",
    "        words_count.append(len(i))"
   ]
  },
  {
   "cell_type": "markdown",
   "id": "e79bd841",
   "metadata": {},
   "source": [
    "Plotting a histogram of word length distribution"
   ]
  },
  {
   "cell_type": "code",
   "execution_count": null,
   "id": "8ed008af",
   "metadata": {},
   "outputs": [],
   "source": [
    "import matplotlib.pyplot as plt"
   ]
  },
  {
   "cell_type": "code",
   "execution_count": 95,
   "id": "ddf150f9",
   "metadata": {},
   "outputs": [
    {
     "data": {
      "image/png": "[encoded data removed]",
      "text/plain": [
       "<Figure size 640x480 with 1 Axes>"
      ]
     },
     "metadata": {},
     "output_type": "display_data"
    }
   ],
   "source": [
    "plt.hist(words_count)\n",
    "plt.show()"
   ]
  }
 ],
 "metadata": {
  "kernelspec": {
   "display_name": "Python 3",
   "language": "python",
   "name": "python3"
  },
  "language_info": {
   "codemirror_mode": {
    "name": "ipython",
    "version": 3
   },
   "file_extension": ".py",
   "mimetype": "text/x-python",
   "name": "python",
   "nbconvert_exporter": "python",
   "pygments_lexer": "ipython3",
   "version": "3.8.8"
  }
 },
 "nbformat": 4,
 "nbformat_minor": 5
}
