{
 "cells": [
  {
   "cell_type": "code",
   "execution_count": 296,
   "id": "d5848ff7",
   "metadata": {},
   "outputs": [],
   "source": [
    "import time\n",
    "import requests\n",
    "import random\n",
    "import math"
   ]
  },
  {
   "cell_type": "markdown",
   "id": "524e902d",
   "metadata": {},
   "source": [
    "Задание 1"
   ]
  },
  {
   "cell_type": "code",
   "execution_count": 7,
   "id": "c3d5eb8e",
   "metadata": {},
   "outputs": [],
   "source": [
    "def measure_time(func):\n",
    "    def inner_function(*args, **kwargs):\n",
    "        start = time.time()\n",
    "        func(*args, **kwargs)\n",
    "        end = time.time()\n",
    "        print(end - start)\n",
    "    return inner_function\n",
    "\n",
    "@measure_time\n",
    "def some_function(a, b, c, d, e=0, f=2, g=\"3\"):\n",
    "    time.sleep(a)\n",
    "    time.sleep(b)\n",
    "    time.sleep(c)\n",
    "    time.sleep(d)\n",
    "    time.sleep(e)\n",
    "    time.sleep(f)\n",
    "    return g\n",
    "\n",
    "\n"
   ]
  },
  {
   "cell_type": "code",
   "execution_count": 6,
   "id": "ba4dd40f",
   "metadata": {},
   "outputs": [
    {
     "name": "stdout",
     "output_type": "stream",
     "text": [
      "21.015684127807617\n"
     ]
    }
   ],
   "source": [
    "some_function(1, 2, 3, 4, e=5, f=6, g=\"99999\")"
   ]
  },
  {
   "cell_type": "markdown",
   "id": "a6c03871",
   "metadata": {},
   "source": [
    "Задание 2"
   ]
  },
  {
   "cell_type": "code",
   "execution_count": 112,
   "id": "8ba7e0de",
   "metadata": {},
   "outputs": [],
   "source": [
    "def function_logging(func):\n",
    "    def inner(*args, **kwargs):\n",
    "        result = func(*args, **kwargs)\n",
    "        if len(args) == 0 and len(kwargs) == 0:\n",
    "            print(f\"Function {func.__name__} is called with no arguments\")\n",
    "        elif len(args) != 0 and len(kwargs) == 0:\n",
    "            print(f\"Function {func.__name__} is called with positional arguments:\", args)\n",
    "        elif len(args) == 0 and len(kwargs) != 0:\n",
    "            print(f\"Function {func.__name__} is called with keyword arguments:\", \\\n",
    "                  ', '.join(['{}={!r}'.format(k, v) for k, v in kwargs.items()]))\n",
    "        else:\n",
    "            print(f\"Function {func.__name__} is called with positional arguments:\", args, \\\n",
    "                 \"and keyword arguments:\", \\\n",
    "                 ', '.join(['{}={!r}'.format(k, v) for k, v in kwargs.items()]))\n",
    "        print(f\"Function {func.__name__} returns output of type {type(result).__name__}\")\n",
    "        return result\n",
    "    return inner"
   ]
  },
  {
   "cell_type": "code",
   "execution_count": 114,
   "id": "287b3d86",
   "metadata": {},
   "outputs": [],
   "source": [
    "@function_logging\n",
    "def func1():\n",
    "    return set()\n",
    "\n",
    "@function_logging\n",
    "def func2(a, b, c):\n",
    "    return (a + b) / c\n",
    "\n",
    "@function_logging\n",
    "def func3(a, b, c, d=4):\n",
    "    return [a + b * c] * d\n",
    "\n",
    "@function_logging\n",
    "def func4(a=None, b=None):\n",
    "    return {a:b}"
   ]
  },
  {
   "cell_type": "code",
   "execution_count": 116,
   "id": "96c33e87",
   "metadata": {
    "scrolled": false
   },
   "outputs": [
    {
     "name": "stdout",
     "output_type": "stream",
     "text": [
      "Function func1 is called with no arguments\n",
      "Function func1 returns output of type set\n",
      "set()\n",
      "\n",
      "Function func2 is called with positional arguments: (1, 2, 3)\n",
      "Function func2 returns output of type float\n",
      "1.0\n",
      "\n",
      "Function func3 is called with positional arguments: (1, 2) and keyword arguments: c=3, d=2\n",
      "Function func3 returns output of type list\n",
      "[7, 7]\n",
      "\n",
      "Function func4 is called with keyword arguments: a=None, b=-inf\n",
      "Function func4 returns output of type dict\n",
      "{None: -inf}\n",
      "\n"
     ]
    }
   ],
   "source": [
    "print(func1(), end = \"\\n\\n\")\n",
    "print(func2(1, 2, 3), end = \"\\n\\n\")\n",
    "print(func3(1, 2, c=3, d=2), end = \"\\n\\n\")\n",
    "print(func4(a=None, b=float(\"-inf\")), end = \"\\n\\n\")"
   ]
  },
  {
   "cell_type": "markdown",
   "id": "b453265f",
   "metadata": {},
   "source": [
    "Задание 3"
   ]
  },
  {
   "cell_type": "code",
   "execution_count": 145,
   "id": "af13c2ca",
   "metadata": {},
   "outputs": [],
   "source": [
    "def russian_roulette_decorator(probability, return_value):\n",
    "    def decorator(func):\n",
    "        def inner(*args, **kwargs):\n",
    "            responce = func(*args, **kwargs)\n",
    "            if random.random() < probability:\n",
    "                return return_value\n",
    "            else:\n",
    "                return responce\n",
    "        return inner\n",
    "    return decorator\n",
    "            "
   ]
  },
  {
   "cell_type": "code",
   "execution_count": 147,
   "id": "97bd9cbc",
   "metadata": {
    "scrolled": true
   },
   "outputs": [],
   "source": [
    "@russian_roulette_decorator(probability=0.2, return_value = \"Ooops, your output has been stolen!\")\n",
    "def make_request(url):\n",
    "    return requests.get(url)"
   ]
  },
  {
   "cell_type": "code",
   "execution_count": 152,
   "id": "2d1dc415",
   "metadata": {},
   "outputs": [
    {
     "name": "stdout",
     "output_type": "stream",
     "text": [
      "<Response [200]>\n",
      "<Response [200]>\n",
      "<Response [200]>\n",
      "Ooops, your output has been stolen!\n",
      "<Response [200]>\n",
      "<Response [200]>\n",
      "<Response [200]>\n",
      "<Response [200]>\n",
      "Ooops, your output has been stolen!\n",
      "<Response [200]>\n"
     ]
    }
   ],
   "source": [
    "for _ in range(10):\n",
    "    print(make_request(\"https://google.com\"))"
   ]
  },
  {
   "cell_type": "markdown",
   "id": "53536aac",
   "metadata": {},
   "source": [
    "Задание 4 : сделать декоратор как staticmethod"
   ]
  },
  {
   "cell_type": "markdown",
   "id": "0359013b",
   "metadata": {},
   "source": [
    "Возьмём пример из [отсюда](https://stackoverflow.com/questions/735975/static-methods-in-python)"
   ]
  },
  {
   "cell_type": "code",
   "execution_count": 288,
   "id": "cf8bb81f",
   "metadata": {},
   "outputs": [],
   "source": [
    "class Pizza:\n",
    "    def __init__(self, radius, ingredients):\n",
    "        self.radius = radius\n",
    "        self.ingredients = ingredients\n",
    "\n",
    "    def __repr__(self):\n",
    "        return (f'Pizza({self.radius!r}, '\n",
    "                f'{self.ingredients!r})')\n",
    "\n",
    "    def area(self):\n",
    "        return self.circle_area(self.radius)\n",
    "\n",
    "    @staticmethod\n",
    "    def circle_area(r):\n",
    "        return r ** 2 * math.pi"
   ]
  },
  {
   "cell_type": "markdown",
   "id": "2a96e992",
   "metadata": {},
   "source": [
    "Тут всё работает"
   ]
  },
  {
   "cell_type": "code",
   "execution_count": 289,
   "id": "8c196ffc",
   "metadata": {},
   "outputs": [
    {
     "name": "stdout",
     "output_type": "stream",
     "text": [
      "50.26548245743669\n",
      "50.26548245743669\n"
     ]
    }
   ],
   "source": [
    "p = Pizza(4, ['mozzarella', 'tomatoes'])\n",
    "try:\n",
    "    print(p.area())\n",
    "except:\n",
    "    print(\"Method cannot be used\")\n",
    "\n",
    "print(Pizza.circle_area(4))"
   ]
  },
  {
   "cell_type": "markdown",
   "id": "4d25e062",
   "metadata": {},
   "source": [
    "Теперь уберём декоратор"
   ]
  },
  {
   "cell_type": "code",
   "execution_count": 290,
   "id": "22513250",
   "metadata": {},
   "outputs": [],
   "source": [
    "class Pizza:\n",
    "    def __init__(self, radius, ingredients):\n",
    "        self.radius = radius\n",
    "        self.ingredients = ingredients\n",
    "\n",
    "    def __repr__(self):\n",
    "        return (f'Pizza({self.radius!r}, '\n",
    "                f'{self.ingredients!r})')\n",
    "\n",
    "    def area(self):\n",
    "        return self.circle_area(self.radius)\n",
    "\n",
    "    #@staticmethod\n",
    "    def circle_area(r):\n",
    "        return r ** 2 * math.pi"
   ]
  },
  {
   "cell_type": "code",
   "execution_count": 291,
   "id": "f9be660f",
   "metadata": {},
   "outputs": [
    {
     "name": "stdout",
     "output_type": "stream",
     "text": [
      "Method cannot be used\n",
      "50.26548245743669\n"
     ]
    }
   ],
   "source": [
    "p = Pizza(4, ['mozzarella', 'tomatoes'])\n",
    "try:\n",
    "    print(p.area())\n",
    "except:\n",
    "    print(\"Method cannot be used\")\n",
    "\n",
    "    print(Pizza.circle_area(4))"
   ]
  },
  {
   "cell_type": "markdown",
   "id": "eaa21227",
   "metadata": {},
   "source": [
    "Наконец, пишем свой декоратор и проверяем"
   ]
  },
  {
   "cell_type": "code",
   "execution_count": 292,
   "id": "bf15d132",
   "metadata": {},
   "outputs": [],
   "source": [
    "class custom_staticmethod:\n",
    "  \n",
    "    def __init__(self, decorated_method):\n",
    "        self.decorated_method = decorated_method\n",
    "        \n",
    "    def __get__(self, instance, owner):\n",
    "        return self.decorated_method"
   ]
  },
  {
   "cell_type": "code",
   "execution_count": 293,
   "id": "77fe309b",
   "metadata": {},
   "outputs": [],
   "source": [
    "class Pizza:\n",
    "    def __init__(self, radius, ingredients):\n",
    "        self.radius = radius\n",
    "        self.ingredients = ingredients\n",
    "\n",
    "    def __repr__(self):\n",
    "        return (f'Pizza({self.radius!r}, '\n",
    "                f'{self.ingredients!r})')\n",
    "\n",
    "    def area(self):\n",
    "        return self.circle_area(self.radius)\n",
    "\n",
    "    @custom_staticmethod\n",
    "    def circle_area(r):\n",
    "        return r ** 2 * math.pi"
   ]
  },
  {
   "cell_type": "code",
   "execution_count": 295,
   "id": "bb3163e4",
   "metadata": {},
   "outputs": [
    {
     "name": "stdout",
     "output_type": "stream",
     "text": [
      "50.26548245743669\n",
      "50.26548245743669\n"
     ]
    }
   ],
   "source": [
    "p = Pizza(4, ['mozzarella', 'tomatoes'])\n",
    "try:\n",
    "    print(p.area())\n",
    "except:\n",
    "    print(\"Method cannot be used\")\n",
    "\n",
    "print(Pizza.circle_area(4))"
   ]
  }
 ],
 "metadata": {
  "kernelspec": {
   "display_name": "Python 3",
   "language": "python",
   "name": "python3"
  },
  "language_info": {
   "codemirror_mode": {
    "name": "ipython",
    "version": 3
   },
   "file_extension": ".py",
   "mimetype": "text/x-python",
   "name": "python",
   "nbconvert_exporter": "python",
   "pygments_lexer": "ipython3",
   "version": "3.8.12"
  }
 },
 "nbformat": 4,
 "nbformat_minor": 5
}
