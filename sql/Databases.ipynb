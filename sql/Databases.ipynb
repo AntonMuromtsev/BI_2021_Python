{
 "cells": [
  {
   "cell_type": "code",
   "execution_count": 196,
   "id": "6433da1c",
   "metadata": {},
   "outputs": [],
   "source": [
    "import numpy as np\n",
    "import pandas as pd\n",
    "import sqlite3\n",
    "import requests\n",
    "from bs4 import BeautifulSoup"
   ]
  },
  {
   "cell_type": "markdown",
   "id": "77969997",
   "metadata": {},
   "source": [
    "### Take a glance on data"
   ]
  },
  {
   "cell_type": "code",
   "execution_count": 657,
   "id": "95b515f3",
   "metadata": {
    "scrolled": true
   },
   "outputs": [
    {
     "name": "stderr",
     "output_type": "stream",
     "text": [
      "/Users/tugidon/anaconda3/lib/python3.8/site-packages/IPython/core/interactiveshell.py:3361: DtypeWarning: Columns (13) have mixed types.Specify dtype option on import or set low_memory=False.\n",
      "  exec(code_obj, self.user_global_ns, self.user_ns)\n"
     ]
    }
   ],
   "source": [
    "gen_studio = pd.read_csv(\"genstudio.csv\")"
   ]
  },
  {
   "cell_type": "code",
   "execution_count": 138,
   "id": "478d40db",
   "metadata": {},
   "outputs": [
    {
     "data": {
      "text/plain": [
       "(2000000, 20)"
      ]
     },
     "execution_count": 138,
     "metadata": {},
     "output_type": "execute_result"
    }
   ],
   "source": [
    "gen_studio.shape"
   ]
  },
  {
   "cell_type": "code",
   "execution_count": 658,
   "id": "58fcec93",
   "metadata": {},
   "outputs": [],
   "source": [
    "metadata = pd.read_csv(\"metadata.csv\")"
   ]
  },
  {
   "cell_type": "code",
   "execution_count": 140,
   "id": "d60f3bed",
   "metadata": {},
   "outputs": [
    {
     "data": {
      "text/plain": [
       "(841, 4)"
      ]
     },
     "execution_count": 140,
     "metadata": {},
     "output_type": "execute_result"
    }
   ],
   "source": [
    "metadata.shape"
   ]
  },
  {
   "cell_type": "code",
   "execution_count": 659,
   "id": "c4ae064d",
   "metadata": {
    "scrolled": true
   },
   "outputs": [
    {
     "data": {
      "text/html": [
       "<div>\n",
       "<style scoped>\n",
       "    .dataframe tbody tr th:only-of-type {\n",
       "        vertical-align: middle;\n",
       "    }\n",
       "\n",
       "    .dataframe tbody tr th {\n",
       "        vertical-align: top;\n",
       "    }\n",
       "\n",
       "    .dataframe thead th {\n",
       "        text-align: right;\n",
       "    }\n",
       "</style>\n",
       "<table border=\"1\" class=\"dataframe\">\n",
       "  <thead>\n",
       "    <tr style=\"text-align: right;\">\n",
       "      <th></th>\n",
       "      <th>Unnamed: 0</th>\n",
       "      <th>SNP Name</th>\n",
       "      <th>SNP Index</th>\n",
       "      <th>SNP Aux</th>\n",
       "      <th>Sample ID</th>\n",
       "      <th>SNP</th>\n",
       "      <th>Allele1 - Top</th>\n",
       "      <th>Allele2 - Top</th>\n",
       "      <th>Allele1 - Forward</th>\n",
       "      <th>Allele2 - Forward</th>\n",
       "      <th>Allele1 - AB</th>\n",
       "      <th>Allele2 - AB</th>\n",
       "      <th>Chr</th>\n",
       "      <th>Position</th>\n",
       "      <th>GC Score</th>\n",
       "      <th>GT Score</th>\n",
       "      <th>Theta</th>\n",
       "      <th>R</th>\n",
       "      <th>B Allele Freq</th>\n",
       "      <th>Log R Ratio</th>\n",
       "    </tr>\n",
       "  </thead>\n",
       "  <tbody>\n",
       "    <tr>\n",
       "      <th>0</th>\n",
       "      <td>0</td>\n",
       "      <td>1_10573221</td>\n",
       "      <td>1</td>\n",
       "      <td>0</td>\n",
       "      <td>202341831114R01C01</td>\n",
       "      <td>[T/C]</td>\n",
       "      <td>-</td>\n",
       "      <td>-</td>\n",
       "      <td>-</td>\n",
       "      <td>-</td>\n",
       "      <td>-</td>\n",
       "      <td>-</td>\n",
       "      <td>1</td>\n",
       "      <td>10573221</td>\n",
       "      <td>0.0000</td>\n",
       "      <td>0.0000</td>\n",
       "      <td>0.942</td>\n",
       "      <td>0.413</td>\n",
       "      <td>1.0000</td>\n",
       "      <td>0.4040</td>\n",
       "    </tr>\n",
       "    <tr>\n",
       "      <th>1</th>\n",
       "      <td>1</td>\n",
       "      <td>1_10673082</td>\n",
       "      <td>2</td>\n",
       "      <td>0</td>\n",
       "      <td>202341831114R01C01</td>\n",
       "      <td>[T/C]</td>\n",
       "      <td>A</td>\n",
       "      <td>A</td>\n",
       "      <td>T</td>\n",
       "      <td>T</td>\n",
       "      <td>A</td>\n",
       "      <td>A</td>\n",
       "      <td>1</td>\n",
       "      <td>10673082</td>\n",
       "      <td>0.8272</td>\n",
       "      <td>0.8076</td>\n",
       "      <td>0.039</td>\n",
       "      <td>0.968</td>\n",
       "      <td>0.0000</td>\n",
       "      <td>0.3017</td>\n",
       "    </tr>\n",
       "    <tr>\n",
       "      <th>2</th>\n",
       "      <td>2</td>\n",
       "      <td>1_10723065</td>\n",
       "      <td>3</td>\n",
       "      <td>0</td>\n",
       "      <td>202341831114R01C01</td>\n",
       "      <td>[A/G]</td>\n",
       "      <td>A</td>\n",
       "      <td>A</td>\n",
       "      <td>T</td>\n",
       "      <td>T</td>\n",
       "      <td>A</td>\n",
       "      <td>A</td>\n",
       "      <td>1</td>\n",
       "      <td>10723065</td>\n",
       "      <td>0.8316</td>\n",
       "      <td>0.8107</td>\n",
       "      <td>0.011</td>\n",
       "      <td>1.577</td>\n",
       "      <td>0.0000</td>\n",
       "      <td>0.0388</td>\n",
       "    </tr>\n",
       "    <tr>\n",
       "      <th>3</th>\n",
       "      <td>3</td>\n",
       "      <td>1_11337555</td>\n",
       "      <td>4</td>\n",
       "      <td>0</td>\n",
       "      <td>202341831114R01C01</td>\n",
       "      <td>[A/G]</td>\n",
       "      <td>A</td>\n",
       "      <td>A</td>\n",
       "      <td>T</td>\n",
       "      <td>T</td>\n",
       "      <td>A</td>\n",
       "      <td>A</td>\n",
       "      <td>1</td>\n",
       "      <td>11337555</td>\n",
       "      <td>0.3781</td>\n",
       "      <td>0.7925</td>\n",
       "      <td>0.045</td>\n",
       "      <td>1.104</td>\n",
       "      <td>0.0000</td>\n",
       "      <td>0.2761</td>\n",
       "    </tr>\n",
       "    <tr>\n",
       "      <th>4</th>\n",
       "      <td>4</td>\n",
       "      <td>1_11407894</td>\n",
       "      <td>5</td>\n",
       "      <td>0</td>\n",
       "      <td>202341831114R01C01</td>\n",
       "      <td>[A/G]</td>\n",
       "      <td>G</td>\n",
       "      <td>G</td>\n",
       "      <td>G</td>\n",
       "      <td>G</td>\n",
       "      <td>B</td>\n",
       "      <td>B</td>\n",
       "      <td>1</td>\n",
       "      <td>11407894</td>\n",
       "      <td>0.9038</td>\n",
       "      <td>0.8670</td>\n",
       "      <td>0.983</td>\n",
       "      <td>1.122</td>\n",
       "      <td>0.9994</td>\n",
       "      <td>0.0022</td>\n",
       "    </tr>\n",
       "  </tbody>\n",
       "</table>\n",
       "</div>"
      ],
      "text/plain": [
       "   Unnamed: 0    SNP Name  SNP Index  SNP Aux           Sample ID    SNP  \\\n",
       "0           0  1_10573221          1        0  202341831114R01C01  [T/C]   \n",
       "1           1  1_10673082          2        0  202341831114R01C01  [T/C]   \n",
       "2           2  1_10723065          3        0  202341831114R01C01  [A/G]   \n",
       "3           3  1_11337555          4        0  202341831114R01C01  [A/G]   \n",
       "4           4  1_11407894          5        0  202341831114R01C01  [A/G]   \n",
       "\n",
       "  Allele1 - Top Allele2 - Top Allele1 - Forward Allele2 - Forward  \\\n",
       "0             -             -                 -                 -   \n",
       "1             A             A                 T                 T   \n",
       "2             A             A                 T                 T   \n",
       "3             A             A                 T                 T   \n",
       "4             G             G                 G                 G   \n",
       "\n",
       "  Allele1 - AB Allele2 - AB Chr  Position  GC Score  GT Score  Theta      R  \\\n",
       "0            -            -   1  10573221    0.0000    0.0000  0.942  0.413   \n",
       "1            A            A   1  10673082    0.8272    0.8076  0.039  0.968   \n",
       "2            A            A   1  10723065    0.8316    0.8107  0.011  1.577   \n",
       "3            A            A   1  11337555    0.3781    0.7925  0.045  1.104   \n",
       "4            B            B   1  11407894    0.9038    0.8670  0.983  1.122   \n",
       "\n",
       "   B Allele Freq  Log R Ratio  \n",
       "0         1.0000       0.4040  \n",
       "1         0.0000       0.3017  \n",
       "2         0.0000       0.0388  \n",
       "3         0.0000       0.2761  \n",
       "4         0.9994       0.0022  "
      ]
     },
     "execution_count": 659,
     "metadata": {},
     "output_type": "execute_result"
    }
   ],
   "source": [
    "gen_studio.head()"
   ]
  },
  {
   "cell_type": "code",
   "execution_count": 660,
   "id": "b21a8e71",
   "metadata": {},
   "outputs": [
    {
     "name": "stdout",
     "output_type": "stream",
     "text": [
      "<class 'pandas.core.frame.DataFrame'>\n",
      "RangeIndex: 2000000 entries, 0 to 1999999\n",
      "Data columns (total 20 columns):\n",
      " #   Column             Dtype  \n",
      "---  ------             -----  \n",
      " 0   Unnamed: 0         int64  \n",
      " 1   SNP Name           object \n",
      " 2   SNP Index          int64  \n",
      " 3   SNP Aux            int64  \n",
      " 4   Sample ID          object \n",
      " 5   SNP                object \n",
      " 6   Allele1 - Top      object \n",
      " 7   Allele2 - Top      object \n",
      " 8   Allele1 - Forward  object \n",
      " 9   Allele2 - Forward  object \n",
      " 10  Allele1 - AB       object \n",
      " 11  Allele2 - AB       object \n",
      " 12  Chr                object \n",
      " 13  Position           object \n",
      " 14  GC Score           float64\n",
      " 15  GT Score           float64\n",
      " 16  Theta              float64\n",
      " 17  R                  float64\n",
      " 18  B Allele Freq      float64\n",
      " 19  Log R Ratio        float64\n",
      "dtypes: float64(6), int64(3), object(11)\n",
      "memory usage: 305.2+ MB\n"
     ]
    }
   ],
   "source": [
    "gen_studio.info()"
   ]
  },
  {
   "cell_type": "code",
   "execution_count": 661,
   "id": "2bf0418a",
   "metadata": {
    "scrolled": true
   },
   "outputs": [
    {
     "data": {
      "text/html": [
       "<div>\n",
       "<style scoped>\n",
       "    .dataframe tbody tr th:only-of-type {\n",
       "        vertical-align: middle;\n",
       "    }\n",
       "\n",
       "    .dataframe tbody tr th {\n",
       "        vertical-align: top;\n",
       "    }\n",
       "\n",
       "    .dataframe thead th {\n",
       "        text-align: right;\n",
       "    }\n",
       "</style>\n",
       "<table border=\"1\" class=\"dataframe\">\n",
       "  <thead>\n",
       "    <tr style=\"text-align: right;\">\n",
       "      <th></th>\n",
       "      <th>Unnamed: 0</th>\n",
       "      <th>dna_chip_id</th>\n",
       "      <th>breed</th>\n",
       "      <th>sex</th>\n",
       "    </tr>\n",
       "  </thead>\n",
       "  <tbody>\n",
       "    <tr>\n",
       "      <th>0</th>\n",
       "      <td>0</td>\n",
       "      <td>202290551164R09C01</td>\n",
       "      <td>Д</td>\n",
       "      <td>Хр</td>\n",
       "    </tr>\n",
       "    <tr>\n",
       "      <th>1</th>\n",
       "      <td>1</td>\n",
       "      <td>202341831114R02C01</td>\n",
       "      <td>Д</td>\n",
       "      <td>Хр</td>\n",
       "    </tr>\n",
       "    <tr>\n",
       "      <th>2</th>\n",
       "      <td>2</td>\n",
       "      <td>202341831114R03C01</td>\n",
       "      <td>Д</td>\n",
       "      <td>Хр</td>\n",
       "    </tr>\n",
       "    <tr>\n",
       "      <th>3</th>\n",
       "      <td>3</td>\n",
       "      <td>202341831114R04C01</td>\n",
       "      <td>Д</td>\n",
       "      <td>Хр</td>\n",
       "    </tr>\n",
       "    <tr>\n",
       "      <th>4</th>\n",
       "      <td>4</td>\n",
       "      <td>202290551140R01C01</td>\n",
       "      <td>Д</td>\n",
       "      <td>Хр</td>\n",
       "    </tr>\n",
       "  </tbody>\n",
       "</table>\n",
       "</div>"
      ],
      "text/plain": [
       "   Unnamed: 0         dna_chip_id breed sex\n",
       "0           0  202290551164R09C01     Д  Хр\n",
       "1           1  202341831114R02C01     Д  Хр\n",
       "2           2  202341831114R03C01     Д  Хр\n",
       "3           3  202341831114R04C01     Д  Хр\n",
       "4           4  202290551140R01C01     Д  Хр"
      ]
     },
     "execution_count": 661,
     "metadata": {},
     "output_type": "execute_result"
    }
   ],
   "source": [
    "metadata.head()"
   ]
  },
  {
   "cell_type": "code",
   "execution_count": 144,
   "id": "3ada55c8",
   "metadata": {},
   "outputs": [
    {
     "name": "stdout",
     "output_type": "stream",
     "text": [
      "<class 'pandas.core.frame.DataFrame'>\n",
      "RangeIndex: 841 entries, 0 to 840\n",
      "Data columns (total 4 columns):\n",
      " #   Column       Non-Null Count  Dtype \n",
      "---  ------       --------------  ----- \n",
      " 0   Unnamed: 0   841 non-null    int64 \n",
      " 1   dna_chip_id  841 non-null    object\n",
      " 2   breed        841 non-null    object\n",
      " 3   sex          841 non-null    object\n",
      "dtypes: int64(1), object(3)\n",
      "memory usage: 26.4+ KB\n"
     ]
    }
   ],
   "source": [
    "metadata.info()"
   ]
  },
  {
   "cell_type": "markdown",
   "id": "b35daf79",
   "metadata": {},
   "source": [
    "### Creating database "
   ]
  },
  {
   "cell_type": "code",
   "execution_count": 662,
   "id": "856e0b52",
   "metadata": {},
   "outputs": [],
   "source": [
    "connection = sqlite3.connect(\"gene.db\")"
   ]
  },
  {
   "cell_type": "markdown",
   "id": "a8cb27e3",
   "metadata": {},
   "source": [
    "###  Adding genesstudio data"
   ]
  },
  {
   "cell_type": "code",
   "execution_count": 663,
   "id": "d53744a5",
   "metadata": {},
   "outputs": [],
   "source": [
    "query = '''CREATE TABLE genes(\n",
    "                                snp_id INTEGER PRIMARY KEY,\n",
    "                                snp_name TEXT,\n",
    "                                snp_index INTEGER,\n",
    "                                snp_aux INTEGER,\n",
    "                                sample_id TEXT,\n",
    "                                snp TEXT,\n",
    "                                allele_1_top TEXT,\n",
    "                                allele_2_top TEXT,\n",
    "                                allele_1_forward TEXT,\n",
    "                                allele_2_forward TEXT,\n",
    "                                allele_1_ab TEXT,\n",
    "                                allele_2_ab TEXT,\n",
    "                                chr TEXT,\n",
    "                                position TEXT,\n",
    "                                gc_score FLOAT,\n",
    "                                gt_score FLOAT,\n",
    "                                theta FLOAT,\n",
    "                                r FLOAT,\n",
    "                                b_allele_freq FLOAT,\n",
    "                                log_r_ratio FLOAT\n",
    "                                )'''"
   ]
  },
  {
   "cell_type": "code",
   "execution_count": 664,
   "id": "7820f7ce",
   "metadata": {},
   "outputs": [
    {
     "data": {
      "text/plain": [
       "<sqlite3.Cursor at 0x7fc79f0bf260>"
      ]
     },
     "execution_count": 664,
     "metadata": {},
     "output_type": "execute_result"
    }
   ],
   "source": [
    "connection.execute(query)"
   ]
  },
  {
   "cell_type": "code",
   "execution_count": 665,
   "id": "ccaadb03",
   "metadata": {},
   "outputs": [],
   "source": [
    "connection.commit()"
   ]
  },
  {
   "cell_type": "markdown",
   "id": "3e880b04",
   "metadata": {},
   "source": [
    "### Fill database with genstudio data"
   ]
  },
  {
   "cell_type": "code",
   "execution_count": 666,
   "id": "79ba9bfa",
   "metadata": {},
   "outputs": [],
   "source": [
    "fill_data = gen_studio.iloc[:, 1:]"
   ]
  },
  {
   "cell_type": "code",
   "execution_count": 667,
   "id": "1c3caf4c",
   "metadata": {},
   "outputs": [],
   "source": [
    "new_names = [i.replace(\" \", \"_\") for i in fill_data.columns]"
   ]
  },
  {
   "cell_type": "code",
   "execution_count": 668,
   "id": "d2d46f1c",
   "metadata": {},
   "outputs": [],
   "source": [
    "fill_data.columns = new_names"
   ]
  },
  {
   "cell_type": "code",
   "execution_count": 669,
   "id": "73ef3263",
   "metadata": {},
   "outputs": [],
   "source": [
    "fill_data_list = fill_data.values.tolist()"
   ]
  },
  {
   "cell_type": "code",
   "execution_count": 670,
   "id": "5d4fefcc",
   "metadata": {},
   "outputs": [],
   "source": [
    "insertion_query = \"\"\" INSERT INTO genes(\n",
    "                             snp_name, snp_index, \n",
    "                             snp_aux, sample_id,\n",
    "                             snp, allele_1_top,\n",
    "                             allele_2_top, allele_1_forward,\n",
    "                             allele_2_forward, allele_1_ab,\n",
    "                             allele_2_ab,chr,\n",
    "                             position, gc_score,\n",
    "                             gt_score,theta,\n",
    "                             r, b_allele_freq,\n",
    "                             log_r_ratio)\n",
    "                             VALUES(?,?,?,?,?,?,?,?,?,?,?,?,?,?,?,?,?,?,?)\"\"\""
   ]
  },
  {
   "cell_type": "code",
   "execution_count": 671,
   "id": "612b3452",
   "metadata": {},
   "outputs": [],
   "source": [
    "for i in fill_data_list:\n",
    "    connection.execute(insertion_query, i)"
   ]
  },
  {
   "cell_type": "code",
   "execution_count": 672,
   "id": "aa786473",
   "metadata": {},
   "outputs": [],
   "source": [
    "connection.commit()"
   ]
  },
  {
   "cell_type": "markdown",
   "id": "ec8dd757",
   "metadata": {},
   "source": [
    "### Adding metadata to database"
   ]
  },
  {
   "cell_type": "code",
   "execution_count": 673,
   "id": "5dc998ec",
   "metadata": {},
   "outputs": [],
   "source": [
    "query = '''CREATE TABLE metadata(\n",
    "                                snp_id INTEGER PRIMARY KEY,\n",
    "                                dna_chip_id TEXT,\n",
    "                                breed TEXT,\n",
    "                                sex TEXT\n",
    "                                )'''"
   ]
  },
  {
   "cell_type": "code",
   "execution_count": 674,
   "id": "6edbe4a0",
   "metadata": {},
   "outputs": [
    {
     "data": {
      "text/plain": [
       "<sqlite3.Cursor at 0x7fc79f0982d0>"
      ]
     },
     "execution_count": 674,
     "metadata": {},
     "output_type": "execute_result"
    }
   ],
   "source": [
    "connection.execute(query)"
   ]
  },
  {
   "cell_type": "code",
   "execution_count": 675,
   "id": "e89a5d65",
   "metadata": {},
   "outputs": [],
   "source": [
    "connection.commit()"
   ]
  },
  {
   "cell_type": "code",
   "execution_count": 676,
   "id": "14fb5086",
   "metadata": {},
   "outputs": [],
   "source": [
    "insertion_query = \"\"\" INSERT INTO metadata(\n",
    "                             dna_chip_id, breed, sex)\n",
    "                             VALUES(?,?, ?)\"\"\""
   ]
  },
  {
   "cell_type": "code",
   "execution_count": 677,
   "id": "397b38b9",
   "metadata": {},
   "outputs": [],
   "source": [
    "metadata = metadata.iloc[:, 1:]"
   ]
  },
  {
   "cell_type": "code",
   "execution_count": 678,
   "id": "a9241b1d",
   "metadata": {},
   "outputs": [],
   "source": [
    "metadata_list = metadata.values.tolist()"
   ]
  },
  {
   "cell_type": "code",
   "execution_count": 679,
   "id": "af6f39e7",
   "metadata": {},
   "outputs": [],
   "source": [
    "for i in metadata_list:\n",
    "    connection.execute(insertion_query, i)"
   ]
  },
  {
   "cell_type": "code",
   "execution_count": 680,
   "id": "dc90733e",
   "metadata": {},
   "outputs": [],
   "source": [
    "connection.commit()"
   ]
  },
  {
   "cell_type": "markdown",
   "id": "7ab48b7a",
   "metadata": {},
   "source": [
    "### Selecting from database "
   ]
  },
  {
   "cell_type": "code",
   "execution_count": 681,
   "id": "06d6cf6c",
   "metadata": {},
   "outputs": [],
   "source": [
    "select_query = '''SELECT snp_name, snp_index\n",
    "                    FROM genes'''"
   ]
  },
  {
   "cell_type": "code",
   "execution_count": 682,
   "id": "8dd45125",
   "metadata": {},
   "outputs": [],
   "source": [
    "result = connection.execute(select_query).fetchmany(5)"
   ]
  },
  {
   "cell_type": "code",
   "execution_count": 683,
   "id": "46831f45",
   "metadata": {},
   "outputs": [
    {
     "data": {
      "text/plain": [
       "[('1_10573221', 1),\n",
       " ('1_10673082', 2),\n",
       " ('1_10723065', 3),\n",
       " ('1_11337555', 4),\n",
       " ('1_11407894', 5)]"
      ]
     },
     "execution_count": 683,
     "metadata": {},
     "output_type": "execute_result"
    }
   ],
   "source": [
    "result"
   ]
  },
  {
   "cell_type": "markdown",
   "id": "38c804b8",
   "metadata": {},
   "source": [
    "### Parsing"
   ]
  },
  {
   "cell_type": "code",
   "execution_count": 259,
   "id": "c6ffaa69",
   "metadata": {},
   "outputs": [],
   "source": [
    "link = \"https://www.film.ru/soon\""
   ]
  },
  {
   "cell_type": "code",
   "execution_count": 260,
   "id": "a57e5f4d",
   "metadata": {},
   "outputs": [],
   "source": [
    "resp = requests.get(link)"
   ]
  },
  {
   "cell_type": "code",
   "execution_count": 262,
   "id": "6818d895",
   "metadata": {},
   "outputs": [],
   "source": [
    "soup = BeautifulSoup(resp.text)"
   ]
  },
  {
   "cell_type": "code",
   "execution_count": 286,
   "id": "9421b6ec",
   "metadata": {},
   "outputs": [],
   "source": [
    "lists = soup.find(\"div\", id = \"list_content\")"
   ]
  },
  {
   "cell_type": "markdown",
   "id": "257f0b29",
   "metadata": {},
   "source": [
    "Code was being written adaptively to output and may not work ideally if new requests change"
   ]
  },
  {
   "cell_type": "code",
   "execution_count": 589,
   "id": "887a26a8",
   "metadata": {},
   "outputs": [],
   "source": [
    "countries= [\"США\", \"Гонконг\", \"Таиланд\", \"Япония\", \"Франция\", \"Польша\", \"Великобритания\", \"Швейцария\", \\\n",
    "           \"Дания\", \"Швеция\", \"Нидерланды\", \"Россия\", \"Лихтенштейн\", \"Бельгия\", \"ПуэртоРико\", \"Германия\", \\\n",
    "           \"Италия\", \"Норвегия\", \"РеспубликаКорея\", \"Чехия\", \"Канада\", \"Мексика\", \"Венесуэла\", \"Испания\", \\\n",
    "           \"Финляндия\", \"Венгрия\", \"Турция\", \"Китай\", \"Ирландия\", \"Австралия\", \"Индия\", \"Израиль\"]"
   ]
  },
  {
   "cell_type": "code",
   "execution_count": 649,
   "id": "99c14685",
   "metadata": {},
   "outputs": [],
   "source": [
    "films = []\n",
    "for div in lists.find_all(\"div\", class_=\"film_catalog\"):\n",
    "    \n",
    "    link = div.find(\"a\") # link contains all subinformation\n",
    "    description = link.text.split(\"\\n\")\n",
    "    description = list(filter(lambda a: a != '', description)) # filter ''\n",
    "    \n",
    "    for i in range(4,len(description)):\n",
    "        description[i] = description[i].replace(\" \", \"\") # delete part of backspaces\n",
    "        \n",
    "    if description[1] == \"Есть рецензия\": # delete this section \n",
    "        description.pop(1)\n",
    "        \n",
    "    if \"+\" not in description[2]: # mark films without age rate\n",
    "        description.insert(2, \"-\")\n",
    "        \n",
    "\n",
    "    eng_and_year = description[1].split(\",\") # proceess english name and year\n",
    "    \n",
    "    if eng_and_year[0].isdigit(): \n",
    "        description[1] = \"-\"\n",
    "        description.insert(2, eng_and_year[0])\n",
    "    else:\n",
    "        description[1] = eng_and_year[0]\n",
    "        description.insert(2, eng_and_year[1])\n",
    "       \n",
    "    janre_and_time = description[4].split(\",\") # process janre and time\n",
    "    \n",
    "    if not janre_and_time[-1].isalpha():\n",
    "        description[4] = \",\".join(janre_and_time[:-1])\n",
    "        description.insert(5, janre_and_time[-1])\n",
    "    elif len(janre_and_time) > 0:\n",
    "        description[4] = \",\".join(janre_and_time[:])\n",
    "        description.insert(5, \"-\")\n",
    "    else:\n",
    "        description[4] = \"-\"\n",
    "        description.insert(5, \"-\")   \n",
    "        \n",
    "    description[6] = description[6].replace(\" \", \"\")\n",
    "    country_and_produssor = description[6].split(\",\") # process country and produssor\n",
    "\n",
    "    \n",
    "    countries_select = []\n",
    "    producers = []\n",
    "    if country_and_produssor[0] == \"film.ru:\":\n",
    "        description.insert(5,\"-\")\n",
    "    for item in country_and_produssor:\n",
    "        if item in countries:\n",
    "            countries_select.append(item)\n",
    "        else:\n",
    "            producers.append(item)\n",
    "    if len(countries) > 0:\n",
    "        description[6] = \",\".join(countries_select)\n",
    "    else:\n",
    "        description[6] = \"-\"\n",
    "    if len(producers) > 0:\n",
    "        description.insert(7,\",\".join(producers))\n",
    "    else:\n",
    "        description.insert(7,\"-\")\n",
    "    \n",
    "    description.pop(8) # delete names of rating systems\n",
    "    description.pop(9)\n",
    "    description.pop(10)\n",
    "   \n",
    "     \n",
    "    \n",
    "    films.append(description)    \n",
    "   \n",
    "    \n",
    "    "
   ]
  },
  {
   "cell_type": "code",
   "execution_count": 650,
   "id": "e1fc223f",
   "metadata": {},
   "outputs": [],
   "source": [
    "connection = sqlite3.connect(\"films.db\")"
   ]
  },
  {
   "cell_type": "code",
   "execution_count": 651,
   "id": "4fcd2c86",
   "metadata": {},
   "outputs": [],
   "source": [
    "query = '''CREATE TABLE films(\n",
    "                                snp_id INTEGER PRIMARY KEY,\n",
    "                                rus_name TEXT,\n",
    "                                eng_name TEXT,\n",
    "                                year TEXT,\n",
    "                                age_rate TEXT,\n",
    "                                janres TEXT,\n",
    "                                duration_min TEXT,\n",
    "                                countries TEXT,\n",
    "                                produssor TEXT,\n",
    "                                film_ru_score TEXT,\n",
    "                                IMDb_score TEXT,\n",
    "                                audience_score TEXT\n",
    "                                ) '''"
   ]
  },
  {
   "cell_type": "code",
   "execution_count": 652,
   "id": "aae37733",
   "metadata": {},
   "outputs": [
    {
     "data": {
      "text/plain": [
       "<sqlite3.Cursor at 0x7fc79f15c880>"
      ]
     },
     "execution_count": 652,
     "metadata": {},
     "output_type": "execute_result"
    }
   ],
   "source": [
    "connection.execute(query)"
   ]
  },
  {
   "cell_type": "code",
   "execution_count": 653,
   "id": "04d1568a",
   "metadata": {},
   "outputs": [],
   "source": [
    "connection.commit()"
   ]
  },
  {
   "cell_type": "code",
   "execution_count": 654,
   "id": "0fa90f2e",
   "metadata": {},
   "outputs": [],
   "source": [
    "insertion_query = ''' INSERT INTO films(\n",
    "                             rus_name, eng_name,\n",
    "                             year, age_rate, janres,\n",
    "                             duration_min, countries,\n",
    "                             produssor,film_ru_score,\n",
    "                             IMDb_score, audience_score)\n",
    "                             VALUES(?,?,?,?,?,?,?,?,?,?,?)'''"
   ]
  },
  {
   "cell_type": "code",
   "execution_count": 655,
   "id": "bdff703a",
   "metadata": {},
   "outputs": [],
   "source": [
    "for i in films:\n",
    "    connection.execute(insertion_query, i)"
   ]
  },
  {
   "cell_type": "code",
   "execution_count": 656,
   "id": "0932ed5e",
   "metadata": {},
   "outputs": [],
   "source": [
    "connection.commit()"
   ]
  }
 ],
 "metadata": {
  "kernelspec": {
   "display_name": "Python 3",
   "language": "python",
   "name": "python3"
  },
  "language_info": {
   "codemirror_mode": {
    "name": "ipython",
    "version": 3
   },
   "file_extension": ".py",
   "mimetype": "text/x-python",
   "name": "python",
   "nbconvert_exporter": "python",
   "pygments_lexer": "ipython3",
   "version": "3.8.12"
  }
 },
 "nbformat": 4,
 "nbformat_minor": 5
}
